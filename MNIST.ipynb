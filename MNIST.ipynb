{
 "cells": [
  {
   "cell_type": "code",
   "execution_count": 1,
   "metadata": {},
   "outputs": [
    {
     "name": "stderr",
     "output_type": "stream",
     "text": [
      "Using TensorFlow backend.\n"
     ]
    }
   ],
   "source": [
    "from tensorflow.keras.datasets import mnist\n",
    "from tensorflow.keras.wrappers.scikit_learn import KerasClassifier\n",
    "from sklearn.model_selection import StratifiedKFold\n",
    "from sklearn.model_selection import GridSearchCV\n",
    "from sklearn.model_selection import cross_val_score\n",
    "from sklearn.preprocessing import MinMaxScaler\n",
    "from sklearn.pipeline import Pipeline\n",
    "from tensorflow.keras.models import Sequential\n",
    "from tensorflow.keras.layers import Dense\n",
    "from tensorflow.keras.layers import Dropout\n",
    "from keras.constraints import maxnorm\n",
    "from tensorflow.keras import backend\n",
    "from keras.utils.np_utils import to_categorical\n",
    "from keras.utils import np_utils\n",
    "import numpy as np"
   ]
  },
  {
   "cell_type": "code",
   "execution_count": 2,
   "metadata": {},
   "outputs": [],
   "source": [
    "(X_train, y_train), (X_test, y_test) = mnist.load_data()\n",
    "image_height = X_train.shape[1]\n",
    "image_width = X_train.shape[2]\n",
    "num_pix = image_height * image_width "
   ]
  },
  {
   "cell_type": "code",
   "execution_count": 3,
   "metadata": {},
   "outputs": [],
   "source": [
    "X_train = backend.cast_to_floatx(X_train)\n",
    "X_test = backend.cast_to_floatx(X_test)"
   ]
  },
  {
   "cell_type": "code",
   "execution_count": 4,
   "metadata": {},
   "outputs": [],
   "source": [
    "X_train /= 255.\n",
    "X_test /= 255."
   ]
  },
  {
   "cell_type": "code",
   "execution_count": 5,
   "metadata": {},
   "outputs": [],
   "source": [
    "original_y_train = y_train\n",
    "original_y_test = y_test"
   ]
  },
  {
   "cell_type": "code",
   "execution_count": 6,
   "metadata": {},
   "outputs": [],
   "source": [
    "number_of_classes = 1 + max(np.append(y_train, y_test))\n",
    "y_train = to_categorical(y_train, number_of_classes)\n",
    "y_test = to_categorical(y_test, number_of_classes)"
   ]
  },
  {
   "cell_type": "code",
   "execution_count": 7,
   "metadata": {},
   "outputs": [],
   "source": [
    "X_train = X_train.reshape([X_train.shape[0], num_pix])\n",
    "X_test = X_test.reshape([X_test.shape[0], num_pix])"
   ]
  },
  {
   "cell_type": "code",
   "execution_count": 8,
   "metadata": {},
   "outputs": [],
   "source": [
    "def my_model(num_layers=2, neurons_per_layer=32,\n",
    "            dropout_ratio = 0.2, optimizer='adam'):\n",
    "    \n",
    "    model = Sequential()\n",
    "    model.add(Dense(neurons_per_layer,\n",
    "                   input_shape=[num_pix],\n",
    "                   activation = 'relu',\n",
    "                   kernel_constraint=maxnorm(3)))\n",
    "    model.add(Dropout(dropout_ratio))\n",
    "    \n",
    "    for i in range(num_layers-1):\n",
    "        model.add(Dense(neurons_per_layer, activation='relu',\n",
    "                       kernel_constraint=maxnorm(3)))\n",
    "        model.add(Dropout(dropout_ratio))\n",
    "        \n",
    "        model.add(Dense(number_of_classes,\n",
    "                       kernel_initializer='normal',\n",
    "                       activation='softmax'))\n",
    "        model.compile(loss='categorical_crossentropy',\n",
    "                     optimizer=optimizer, metrics=['accuracy'])\n",
    "        \n",
    "        return model\n",
    "    "
   ]
  },
  {
   "cell_type": "code",
   "execution_count": 9,
   "metadata": {},
   "outputs": [],
   "source": [
    "kc_model = KerasClassifier(build_fn=my_model,\n",
    "                          num_layers=2, neurons_per_layer=32,\n",
    "                          optimizer='adam',\n",
    "                          epochs=100, batch_size=256, verbose=0)"
   ]
  },
  {
   "cell_type": "code",
   "execution_count": 10,
   "metadata": {},
   "outputs": [
    {
     "name": "stderr",
     "output_type": "stream",
     "text": [
      "C:\\ProgramData\\Anaconda3\\lib\\site-packages\\sklearn\\model_selection\\_split.py:1978: FutureWarning: The default value of cv will change from 3 to 5 in version 0.22. Specify it explicitly to silence this warning.\n",
      "  warnings.warn(CV_WARNING, FutureWarning)\n",
      "[Parallel(n_jobs=1)]: Using backend SequentialBackend with 1 concurrent workers.\n"
     ]
    },
    {
     "name": "stdout",
     "output_type": "stream",
     "text": [
      "Fitting 3 folds for each of 18 candidates, totalling 54 fits\n",
      "[CV] neurons_per_layer=20, num_layers=2, optimizer=adam ..............\n",
      "[CV]  neurons_per_layer=20, num_layers=2, optimizer=adam, total=  49.9s\n",
      "[CV] neurons_per_layer=20, num_layers=2, optimizer=adam ..............\n"
     ]
    },
    {
     "name": "stderr",
     "output_type": "stream",
     "text": [
      "[Parallel(n_jobs=1)]: Done   1 out of   1 | elapsed:   49.9s remaining:    0.0s\n"
     ]
    },
    {
     "name": "stdout",
     "output_type": "stream",
     "text": [
      "[CV]  neurons_per_layer=20, num_layers=2, optimizer=adam, total=  50.4s\n",
      "[CV] neurons_per_layer=20, num_layers=2, optimizer=adam ..............\n",
      "[CV]  neurons_per_layer=20, num_layers=2, optimizer=adam, total=  50.5s\n",
      "[CV] neurons_per_layer=20, num_layers=2, optimizer=adadelta ..........\n",
      "[CV]  neurons_per_layer=20, num_layers=2, optimizer=adadelta, total=  48.5s\n",
      "[CV] neurons_per_layer=20, num_layers=2, optimizer=adadelta ..........\n",
      "[CV]  neurons_per_layer=20, num_layers=2, optimizer=adadelta, total=  49.5s\n",
      "[CV] neurons_per_layer=20, num_layers=2, optimizer=adadelta ..........\n",
      "[CV]  neurons_per_layer=20, num_layers=2, optimizer=adadelta, total=  51.8s\n",
      "[CV] neurons_per_layer=20, num_layers=3, optimizer=adam ..............\n",
      "[CV]  neurons_per_layer=20, num_layers=3, optimizer=adam, total=  48.5s\n",
      "[CV] neurons_per_layer=20, num_layers=3, optimizer=adam ..............\n",
      "[CV]  neurons_per_layer=20, num_layers=3, optimizer=adam, total=  48.9s\n",
      "[CV] neurons_per_layer=20, num_layers=3, optimizer=adam ..............\n",
      "[CV]  neurons_per_layer=20, num_layers=3, optimizer=adam, total=  49.4s\n",
      "[CV] neurons_per_layer=20, num_layers=3, optimizer=adadelta ..........\n",
      "[CV]  neurons_per_layer=20, num_layers=3, optimizer=adadelta, total=  48.5s\n",
      "[CV] neurons_per_layer=20, num_layers=3, optimizer=adadelta ..........\n",
      "[CV]  neurons_per_layer=20, num_layers=3, optimizer=adadelta, total=  49.3s\n",
      "[CV] neurons_per_layer=20, num_layers=3, optimizer=adadelta ..........\n",
      "[CV]  neurons_per_layer=20, num_layers=3, optimizer=adadelta, total=  48.9s\n",
      "[CV] neurons_per_layer=20, num_layers=4, optimizer=adam ..............\n",
      "[CV]  neurons_per_layer=20, num_layers=4, optimizer=adam, total=  48.5s\n",
      "[CV] neurons_per_layer=20, num_layers=4, optimizer=adam ..............\n",
      "[CV]  neurons_per_layer=20, num_layers=4, optimizer=adam, total=  48.3s\n",
      "[CV] neurons_per_layer=20, num_layers=4, optimizer=adam ..............\n",
      "[CV]  neurons_per_layer=20, num_layers=4, optimizer=adam, total=  48.5s\n",
      "[CV] neurons_per_layer=20, num_layers=4, optimizer=adadelta ..........\n",
      "[CV]  neurons_per_layer=20, num_layers=4, optimizer=adadelta, total=  48.9s\n",
      "[CV] neurons_per_layer=20, num_layers=4, optimizer=adadelta ..........\n",
      "[CV]  neurons_per_layer=20, num_layers=4, optimizer=adadelta, total=  50.8s\n",
      "[CV] neurons_per_layer=20, num_layers=4, optimizer=adadelta ..........\n",
      "[CV]  neurons_per_layer=20, num_layers=4, optimizer=adadelta, total=  56.8s\n",
      "[CV] neurons_per_layer=30, num_layers=2, optimizer=adam ..............\n",
      "[CV]  neurons_per_layer=30, num_layers=2, optimizer=adam, total=  59.9s\n",
      "[CV] neurons_per_layer=30, num_layers=2, optimizer=adam ..............\n",
      "[CV]  neurons_per_layer=30, num_layers=2, optimizer=adam, total=  57.9s\n",
      "[CV] neurons_per_layer=30, num_layers=2, optimizer=adam ..............\n",
      "[CV]  neurons_per_layer=30, num_layers=2, optimizer=adam, total=  56.3s\n",
      "[CV] neurons_per_layer=30, num_layers=2, optimizer=adadelta ..........\n",
      "[CV]  neurons_per_layer=30, num_layers=2, optimizer=adadelta, total=  56.3s\n",
      "[CV] neurons_per_layer=30, num_layers=2, optimizer=adadelta ..........\n",
      "[CV]  neurons_per_layer=30, num_layers=2, optimizer=adadelta, total=  56.0s\n",
      "[CV] neurons_per_layer=30, num_layers=2, optimizer=adadelta ..........\n",
      "[CV]  neurons_per_layer=30, num_layers=2, optimizer=adadelta, total=  56.6s\n",
      "[CV] neurons_per_layer=30, num_layers=3, optimizer=adam ..............\n",
      "[CV]  neurons_per_layer=30, num_layers=3, optimizer=adam, total=  58.7s\n",
      "[CV] neurons_per_layer=30, num_layers=3, optimizer=adam ..............\n",
      "[CV]  neurons_per_layer=30, num_layers=3, optimizer=adam, total=  57.4s\n",
      "[CV] neurons_per_layer=30, num_layers=3, optimizer=adam ..............\n",
      "[CV]  neurons_per_layer=30, num_layers=3, optimizer=adam, total=  57.4s\n",
      "[CV] neurons_per_layer=30, num_layers=3, optimizer=adadelta ..........\n",
      "[CV]  neurons_per_layer=30, num_layers=3, optimizer=adadelta, total=  56.5s\n",
      "[CV] neurons_per_layer=30, num_layers=3, optimizer=adadelta ..........\n",
      "[CV]  neurons_per_layer=30, num_layers=3, optimizer=adadelta, total=  56.8s\n",
      "[CV] neurons_per_layer=30, num_layers=3, optimizer=adadelta ..........\n",
      "[CV]  neurons_per_layer=30, num_layers=3, optimizer=adadelta, total=  57.8s\n",
      "[CV] neurons_per_layer=30, num_layers=4, optimizer=adam ..............\n",
      "[CV]  neurons_per_layer=30, num_layers=4, optimizer=adam, total=  57.4s\n",
      "[CV] neurons_per_layer=30, num_layers=4, optimizer=adam ..............\n",
      "[CV]  neurons_per_layer=30, num_layers=4, optimizer=adam, total=  56.5s\n",
      "[CV] neurons_per_layer=30, num_layers=4, optimizer=adam ..............\n",
      "[CV]  neurons_per_layer=30, num_layers=4, optimizer=adam, total=  57.6s\n",
      "[CV] neurons_per_layer=30, num_layers=4, optimizer=adadelta ..........\n",
      "[CV]  neurons_per_layer=30, num_layers=4, optimizer=adadelta, total=  56.8s\n",
      "[CV] neurons_per_layer=30, num_layers=4, optimizer=adadelta ..........\n",
      "[CV]  neurons_per_layer=30, num_layers=4, optimizer=adadelta, total=  57.0s\n",
      "[CV] neurons_per_layer=30, num_layers=4, optimizer=adadelta ..........\n",
      "[CV]  neurons_per_layer=30, num_layers=4, optimizer=adadelta, total=  56.3s\n",
      "[CV] neurons_per_layer=40, num_layers=2, optimizer=adam ..............\n",
      "[CV]  neurons_per_layer=40, num_layers=2, optimizer=adam, total= 1.0min\n",
      "[CV] neurons_per_layer=40, num_layers=2, optimizer=adam ..............\n",
      "[CV]  neurons_per_layer=40, num_layers=2, optimizer=adam, total= 1.0min\n",
      "[CV] neurons_per_layer=40, num_layers=2, optimizer=adam ..............\n",
      "[CV]  neurons_per_layer=40, num_layers=2, optimizer=adam, total= 1.0min\n",
      "[CV] neurons_per_layer=40, num_layers=2, optimizer=adadelta ..........\n",
      "[CV]  neurons_per_layer=40, num_layers=2, optimizer=adadelta, total= 1.0min\n",
      "[CV] neurons_per_layer=40, num_layers=2, optimizer=adadelta ..........\n",
      "[CV]  neurons_per_layer=40, num_layers=2, optimizer=adadelta, total= 1.1min\n",
      "[CV] neurons_per_layer=40, num_layers=2, optimizer=adadelta ..........\n",
      "[CV]  neurons_per_layer=40, num_layers=2, optimizer=adadelta, total= 1.1min\n",
      "[CV] neurons_per_layer=40, num_layers=3, optimizer=adam ..............\n",
      "[CV]  neurons_per_layer=40, num_layers=3, optimizer=adam, total= 1.1min\n",
      "[CV] neurons_per_layer=40, num_layers=3, optimizer=adam ..............\n",
      "[CV]  neurons_per_layer=40, num_layers=3, optimizer=adam, total= 1.0min\n",
      "[CV] neurons_per_layer=40, num_layers=3, optimizer=adam ..............\n",
      "[CV]  neurons_per_layer=40, num_layers=3, optimizer=adam, total= 1.0min\n",
      "[CV] neurons_per_layer=40, num_layers=3, optimizer=adadelta ..........\n",
      "[CV]  neurons_per_layer=40, num_layers=3, optimizer=adadelta, total= 1.0min\n",
      "[CV] neurons_per_layer=40, num_layers=3, optimizer=adadelta ..........\n",
      "[CV]  neurons_per_layer=40, num_layers=3, optimizer=adadelta, total= 1.0min\n",
      "[CV] neurons_per_layer=40, num_layers=3, optimizer=adadelta ..........\n",
      "[CV]  neurons_per_layer=40, num_layers=3, optimizer=adadelta, total= 1.0min\n",
      "[CV] neurons_per_layer=40, num_layers=4, optimizer=adam ..............\n",
      "[CV]  neurons_per_layer=40, num_layers=4, optimizer=adam, total= 1.1min\n",
      "[CV] neurons_per_layer=40, num_layers=4, optimizer=adam ..............\n",
      "[CV]  neurons_per_layer=40, num_layers=4, optimizer=adam, total= 1.1min\n",
      "[CV] neurons_per_layer=40, num_layers=4, optimizer=adam ..............\n",
      "[CV]  neurons_per_layer=40, num_layers=4, optimizer=adam, total= 1.1min\n",
      "[CV] neurons_per_layer=40, num_layers=4, optimizer=adadelta ..........\n",
      "[CV]  neurons_per_layer=40, num_layers=4, optimizer=adadelta, total= 1.0min\n",
      "[CV] neurons_per_layer=40, num_layers=4, optimizer=adadelta ..........\n",
      "[CV]  neurons_per_layer=40, num_layers=4, optimizer=adadelta, total= 1.0min\n",
      "[CV] neurons_per_layer=40, num_layers=4, optimizer=adadelta ..........\n",
      "[CV]  neurons_per_layer=40, num_layers=4, optimizer=adadelta, total= 1.1min\n"
     ]
    },
    {
     "name": "stderr",
     "output_type": "stream",
     "text": [
      "[Parallel(n_jobs=1)]: Done  54 out of  54 | elapsed: 51.0min finished\n"
     ]
    }
   ],
   "source": [
    "param_grid = dict(num_layers=[2, 3, 4],\n",
    "                 neurons_per_layer=[20, 30, 40],\n",
    "                 optimizer=['adam', 'adadelta'])\n",
    "grid_search = GridSearchCV(estimator=kc_model,\n",
    "                          param_grid=param_grid, verbose=2)\n",
    "search_result = grid_search.fit(X_train, original_y_train)"
   ]
  },
  {
   "cell_type": "code",
   "execution_count": 25,
   "metadata": {},
   "outputs": [
    {
     "data": {
      "text/plain": [
       "[{'neurons_per_layer': 20, 'num_layers': 2, 'optimizer': 'adam'},\n",
       " {'neurons_per_layer': 20, 'num_layers': 2, 'optimizer': 'adadelta'},\n",
       " {'neurons_per_layer': 20, 'num_layers': 3, 'optimizer': 'adam'},\n",
       " {'neurons_per_layer': 20, 'num_layers': 3, 'optimizer': 'adadelta'},\n",
       " {'neurons_per_layer': 20, 'num_layers': 4, 'optimizer': 'adam'},\n",
       " {'neurons_per_layer': 20, 'num_layers': 4, 'optimizer': 'adadelta'},\n",
       " {'neurons_per_layer': 30, 'num_layers': 2, 'optimizer': 'adam'},\n",
       " {'neurons_per_layer': 30, 'num_layers': 2, 'optimizer': 'adadelta'},\n",
       " {'neurons_per_layer': 30, 'num_layers': 3, 'optimizer': 'adam'},\n",
       " {'neurons_per_layer': 30, 'num_layers': 3, 'optimizer': 'adadelta'},\n",
       " {'neurons_per_layer': 30, 'num_layers': 4, 'optimizer': 'adam'},\n",
       " {'neurons_per_layer': 30, 'num_layers': 4, 'optimizer': 'adadelta'},\n",
       " {'neurons_per_layer': 40, 'num_layers': 2, 'optimizer': 'adam'},\n",
       " {'neurons_per_layer': 40, 'num_layers': 2, 'optimizer': 'adadelta'},\n",
       " {'neurons_per_layer': 40, 'num_layers': 3, 'optimizer': 'adam'},\n",
       " {'neurons_per_layer': 40, 'num_layers': 3, 'optimizer': 'adadelta'},\n",
       " {'neurons_per_layer': 40, 'num_layers': 4, 'optimizer': 'adam'},\n",
       " {'neurons_per_layer': 40, 'num_layers': 4, 'optimizer': 'adadelta'}]"
      ]
     },
     "execution_count": 25,
     "metadata": {},
     "output_type": "execute_result"
    }
   ],
   "source": [
    "search_result.cv_results_['params']"
   ]
  },
  {
   "cell_type": "code",
   "execution_count": 26,
   "metadata": {},
   "outputs": [
    {
     "data": {
      "text/plain": [
       "array([0.94476666, 0.37196667, 0.94546666, 0.34173334, 0.94731669,\n",
       "       0.39698334, 0.95768334, 0.47233334, 0.95694999, 0.45550001,\n",
       "       0.95861667, 0.44076667, 0.96403333, 0.55585001, 0.96498332,\n",
       "       0.58835   , 0.96436665, 0.56681667])"
      ]
     },
     "execution_count": 26,
     "metadata": {},
     "output_type": "execute_result"
    }
   ],
   "source": [
    "search_result.cv_results_['mean_test_score']"
   ]
  },
  {
   "cell_type": "code",
   "execution_count": 30,
   "metadata": {},
   "outputs": [
    {
     "name": "stdout",
     "output_type": "stream",
     "text": [
      "Best set of parameters:\n",
      " index 14\n",
      "{'neurons_per_layer': 40, 'num_layers': 3, 'optimizer': 'adam'}\n",
      "\n"
     ]
    }
   ],
   "source": [
    "best_index = np.argmax(search_result.cv_results_['mean_test_score'])\n",
    "print('Best set of parameters:\\n index {}\\n{}\\n'.format(best_index,\n",
    "                                                   search_result.cv_results_['params'][best_index]))"
   ]
  },
  {
   "cell_type": "code",
   "execution_count": null,
   "metadata": {},
   "outputs": [],
   "source": []
  }
 ],
 "metadata": {
  "kernelspec": {
   "display_name": "Python 3",
   "language": "python",
   "name": "python3"
  },
  "language_info": {
   "codemirror_mode": {
    "name": "ipython",
    "version": 3
   },
   "file_extension": ".py",
   "mimetype": "text/x-python",
   "name": "python",
   "nbconvert_exporter": "python",
   "pygments_lexer": "ipython3",
   "version": "3.7.4"
  }
 },
 "nbformat": 4,
 "nbformat_minor": 2
}
